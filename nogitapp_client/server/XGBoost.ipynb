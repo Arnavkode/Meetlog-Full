{
 "cells": [
  {
   "cell_type": "code",
   "execution_count": 1,
   "id": "24e66d67",
   "metadata": {},
   "outputs": [],
   "source": [
    "# --- Imports and Setup ---\n",
    "import os\n",
    "import numpy as np\n",
    "import pandas as pd\n",
    "import matplotlib.pyplot as plt\n",
    "import seaborn as sns\n",
    "from sklearn.model_selection import train_test_split\n",
    "import warnings\n",
    "\n",
    "\n",
    "warnings.filterwarnings('ignore')\n",
    "\n",
    "\n"
   ]
  },
  {
   "cell_type": "code",
   "execution_count": 2,
   "id": "f95fdd62",
   "metadata": {},
   "outputs": [
    {
     "name": "stdout",
     "output_type": "stream",
     "text": [
      "Loading: AnushkaSittingDCwBuffer.csv\n",
      "Loading: AnushkaSittingDWwBuffer.csv\n",
      "Loading: AnushkaSittingScrollingwBuffer.csv\n",
      "Loading: AnushkaSittingTalkingwBuffer.csv\n",
      "Loading: AnushkaSittingTypingwBuffer.csv\n",
      "Loading: AnushkaSittingWritingwBuffer.csv\n",
      "Loading: AnushkaStandingDCwBuffer.csv\n",
      "Loading: AnushkaStandingErasingwBuffer.csv\n",
      "Loading: AnushkaStandingTalkingwBuffer.csv\n",
      "Loading: AnushkaStandingWBwBuffer.csv\n",
      "Loading: MohitSittingDrinkingWaterwBuffer.csv\n",
      "Loading: MohitSittingScrollingwBuffer.csv\n",
      "Loading: MohitSittingTalkingwBuffer.csv\n",
      "Loading: MohitSittingTypingwBuffer.csv\n",
      "Loading: MohitSittingWritingwBuffer.csv\n",
      "Loading: MohitStandingDrinkingWaterwBuffer.csv\n",
      "Loading: MohitStandingErasingwBuffer.csv\n",
      "Loading: MohitStandingTalkingwBuffer.csv\n",
      "Loading: MohitStandingWritingwBuffer.csv\n",
      "Loading: SaiScrollingOnPhonewBuffer.csv\n",
      "Loading: SaiSittingDWwBuffer.csv\n",
      "Loading: SaiSittingTalkingwBuffer.csv\n",
      "Loading: SaiSittingTypingwBuffer.csv\n",
      "Loading: SaiSittingWritingwBuffer.csv\n",
      "Loading: SaiStandingDWwoBuffer.csv\n",
      "Loading: SaiStandingErasingwoBuffer.csv\n",
      "Loading: SaiStandingTalkingwoBuffer.csv\n",
      "Loading: SaiStandingWBwoBuffer.csv\n",
      "Loading: arnabsittingDWwBuffer.csv\n",
      "Loading: arnabsittingscrollingwBuffer.csv\n",
      "Loading: arnabsittingtalkingwBuffer.csv\n",
      "Loading: arnabstandingtalkingwBuffer.csv\n",
      "Loading: arnabstandingWBwBuffer.csv\n",
      "Loading: arnavsittingDCwBuffer.csv\n",
      "Loading: arnavsittingwritingwBuffer.csv\n",
      "Loading: arnavstandingDCwBuffer.csv\n",
      "Loading: arnavstandingDWwBuffer.csv\n",
      "Loading: arnavstandingErasingwBuffer.csv\n",
      "Loading: NiharikaSittingCoffeewBuffer60.csv\n",
      "Loading: niharikasittingscrollingwBuffer56.csv\n",
      "Loading: niharikasittingtalkingwBuffer58.csv\n",
      "Loading: NiharikaSittingWaterwBuffer62.csv\n",
      "Loading: NiharikaStandingCoffeewBuffer74.csv\n",
      "Loading: NiharikaStandingErasingwBuffer72.csv\n",
      "Loading: NiharikaStandingTalkingwBuffer80.csv\n",
      "Loading: NiharikaStandingWaterwBuffer70.csv\n",
      "Loading: NiharikaStandingWritingwBuffer66.csv\n",
      "Loading: niharikatypingwBuffer52.csv\n",
      "Loading: niharikawritingsittinhwBuffer54.csv\n",
      "Loading: AmberSirtingtypingwBuffer104.csv\n",
      "Loading: AmberSitingWritingwBuffer106.csv\n",
      "Loading: AmberSittingCoffeewBuffer2.csv\n",
      "Loading: AmberSittingScrollingwBuffer0.csv\n",
      "Loading: AmberSittingTalkingwBuffer4.csv\n",
      "Loading: AmberSittingwaterwBuffer108.csv\n",
      "Loading: AmberStandingCoffeewBuffer12.csv\n",
      "Loading: AmberStandingErasingwBuffer10.csv\n",
      "Loading: AmberStandingWritingwBuffer6.csv\n"
     ]
    }
   ],
   "source": [
    "data_folder = 'data'\n",
    "datasets = []\n",
    "\n",
    "for folder in os.listdir(data_folder):\n",
    "    folder_path = os.path.join(data_folder, folder)\n",
    "    if os.path.isdir(folder_path):\n",
    "        for file in os.listdir(folder_path):\n",
    "            file_path = os.path.join(folder_path, file)\n",
    "            if file.endswith('.csv'):\n",
    "                print(f\"Loading: {file}\")\n",
    "                dataset = pd.read_csv(file_path)\n",
    "                datasets.append(dataset)\n",
    "\n",
    "full_data = pd.concat(datasets, ignore_index=True)\n",
    "\n",
    "if 'ActualTime' in full_data.columns:\n",
    "    full_data_ = full_data.drop(columns=['ActualTime'])\n",
    "else:\n",
    "    full_data_ = full_data.copy()"
   ]
  },
  {
   "cell_type": "code",
   "execution_count": 3,
   "id": "9d5e8aeb",
   "metadata": {},
   "outputs": [],
   "source": [
    "sensor_features = [\n",
    "    'Ax watch', 'Ay watch', 'Az watch', 'Gx watch', 'Gy watch', 'Gz watch',\n",
    "    'Ax esense', 'Ay esense', 'Az esense', 'Gx esense', 'Gy esense', 'Gz esense'\n",
    "]"
   ]
  },
  {
   "cell_type": "code",
   "execution_count": 4,
   "id": "40eac7c4",
   "metadata": {},
   "outputs": [],
   "source": [
    "for col in sensor_features:\n",
    "    full_data_[col] = pd.to_numeric(full_data_[col], errors='coerce')\n",
    "    \n",
    "\n"
   ]
  },
  {
   "cell_type": "code",
   "execution_count": 5,
   "id": "b9c327a9",
   "metadata": {},
   "outputs": [],
   "source": [
    "full_data_ = full_data_.dropna(subset=sensor_features + ['Combined_Action_Num'])"
   ]
  },
  {
   "cell_type": "code",
   "execution_count": 6,
   "id": "fe4db534",
   "metadata": {},
   "outputs": [],
   "source": [
    "\n",
    "\n",
    "# If you want to use windowed statistics:\n",
    "def extract_features(df, window_size=50, step=25):\n",
    "    features = []\n",
    "    labels = []\n",
    "    for start in range(0, len(df) - window_size + 1, step):\n",
    "        window = df.iloc[start:start+window_size]\n",
    "        feats = []\n",
    "        for col in sensor_features:\n",
    "            feats.extend([\n",
    "                window[col].mean(),\n",
    "                window[col].std(),\n",
    "                window[col].min(),\n",
    "                window[col].max(),\n",
    "                window[col].median(),\n",
    "            ])\n",
    "        # Use the mode of the label in the window as the target\n",
    "        label = window['Combined_Action_Num'].mode()[0]\n",
    "        features.append(feats)\n",
    "        labels.append(label)\n",
    "    return np.array(features), np.array(labels)\n",
    "\n",
    "X, y = extract_features(full_data_)\n"
   ]
  },
  {
   "cell_type": "code",
   "execution_count": 7,
   "id": "d8039ee0",
   "metadata": {},
   "outputs": [],
   "source": [
    "X_train, X_test, y_train, y_test = train_test_split(\n",
    "    X, y, test_size=0.2, stratify=y, random_state=42\n",
    ")\n"
   ]
  },
  {
   "cell_type": "code",
   "execution_count": 8,
   "id": "b07b48f0",
   "metadata": {},
   "outputs": [
    {
     "name": "stdout",
     "output_type": "stream",
     "text": [
      "[ 0  1  2  3  4  5  7  8  9 10 11]\n",
      "[ 0  1  2  3  4  5  7  8  9 10 11]\n"
     ]
    }
   ],
   "source": [
    "import numpy as np\n",
    "print(np.unique(y_train))\n",
    "print(np.unique(y_test))\n"
   ]
  },
  {
   "cell_type": "code",
   "execution_count": 9,
   "id": "e9c11e6f",
   "metadata": {},
   "outputs": [],
   "source": [
    "from sklearn.preprocessing import LabelEncoder\n",
    "\n",
    "\n",
    "# Encode the activity labels as consecutive integers for model compatibility\n",
    "# This ensures the class labels are mapped to 0, 1, ..., n-1, which is required by XGBoost and many other classifiers.\n",
    "le = LabelEncoder()\n",
    "y_train_enc = le.fit_transform(y_train)  # Fit on training labels and transform them\n",
    "y_test_enc = le.transform(y_test)        # Transform test labels using the same mapping\n"
   ]
  },
  {
   "cell_type": "code",
   "execution_count": 12,
   "id": "d14c51ef",
   "metadata": {},
   "outputs": [
    {
     "name": "stdout",
     "output_type": "stream",
     "text": [
      "11\n"
     ]
    }
   ],
   "source": [
    "num_classes = len(np.unique(y_train))\n",
    "print(num_classes)"
   ]
  },
  {
   "cell_type": "code",
   "execution_count": null,
   "id": "a49e397b",
   "metadata": {},
   "outputs": [
    {
     "name": "stdout",
     "output_type": "stream",
     "text": [
      "Test Accuracy: 0.9302\n",
      "              precision    recall  f1-score   support\n",
      "\n",
      "           0       0.87      0.96      0.92        28\n",
      "           1       0.97      1.00      0.99        34\n",
      "           2       0.93      0.97      0.95        39\n",
      "           3       0.94      0.89      0.91        35\n",
      "           4       0.86      0.83      0.84        29\n",
      "           5       0.94      1.00      0.97        33\n",
      "           7       0.94      0.86      0.90        35\n",
      "           8       0.97      0.94      0.95        31\n",
      "           9       0.88      0.81      0.84        26\n",
      "          10       0.90      1.00      0.95        19\n",
      "          11       1.00      0.97      0.99        35\n",
      "\n",
      "    accuracy                           0.93       344\n",
      "   macro avg       0.93      0.93      0.93       344\n",
      "weighted avg       0.93      0.93      0.93       344\n",
      "\n"
     ]
    }
   ],
   "source": [
    "import xgboost as xgb\n",
    "from sklearn.metrics import accuracy_score, classification_report, confusion_matrix\n",
    "\n",
    "\n",
    "\n",
    "\n",
    "model = xgb.XGBClassifier(\n",
    "    objective='multi:softmax',\n",
    "    num_class=num_classes,\n",
    "    eval_metric='mlogloss',\n",
    "    use_label_encoder=False,\n",
    "    random_state=42\n",
    ")\n",
    "\n",
    "model.fit(X_train, y_train_enc)\n",
    "\n",
    "y_pred_enc = model.predict(X_test)\n",
    "\n",
    "y_pred = le.inverse_transform(y_pred_enc)  \n",
    "\n",
    "\n",
    "# # Accuracy\n",
    "acc = accuracy_score(y_test, y_pred)\n",
    "print(f\"Test Accuracy: {acc:.4f}\")\n",
    "\n",
    "# Detailed report\n",
    "print(classification_report(y_test, y_pred))\n"
   ]
  },
  {
   "cell_type": "code",
   "execution_count": 13,
   "id": "55d5dcee",
   "metadata": {},
   "outputs": [
    {
     "data": {
      "image/png": "[encoded data removed]",
      "text/plain": [
       "<Figure size 640x480 with 1 Axes>"
      ]
     },
     "metadata": {},
     "output_type": "display_data"
    },
    {
     "data": {
      "image/png": "[encoded data removed]",
      "text/plain": [
       "<Figure size 800x600 with 2 Axes>"
      ]
     },
     "metadata": {},
     "output_type": "display_data"
    }
   ],
   "source": [
    "\n",
    "xgb.plot_importance(model, max_num_features=12)\n",
    "plt.title(\"Top 10 Feature Importances\")\n",
    "plt.show()\n",
    "\n",
    "\n",
    "cm = confusion_matrix(y_test, y_pred)\n",
    "plt.figure(figsize=(8,6))\n",
    "sns.heatmap(cm, annot=True, fmt='d', cmap='Blues')\n",
    "plt.xlabel('Predicted')\n",
    "plt.ylabel('Actual')\n",
    "plt.title('Confusion Matrix')\n",
    "plt.show()\n"
   ]
  },
  {
   "cell_type": "code",
   "execution_count": 14,
   "id": "25f6cb08",
   "metadata": {},
   "outputs": [
    {
     "name": "stdout",
     "output_type": "stream",
     "text": [
      "{'learning_rate': 0.2, 'max_depth': 3, 'n_estimators': 200}\n"
     ]
    }
   ],
   "source": [
    "from sklearn.model_selection import GridSearchCV\n",
    "\n",
    "param_grid = {\n",
    "    'max_depth': [3, 5, 7],\n",
    "    'learning_rate': [0.01, 0.1, 0.2],\n",
    "    'n_estimators': [100, 200],\n",
    "}\n",
    "\n",
    "\n",
    "grid = GridSearchCV(\n",
    "    xgb.XGBClassifier(objective='multi:softmax', num_class=12),\n",
    "    param_grid,\n",
    "    cv=6\n",
    ")\n",
    "\n",
    "\n",
    "grid.fit(X_train, y_train_enc )\n",
    "print(grid.best_params_)\n"
   ]
  },
  {
   "cell_type": "code",
   "execution_count": 34,
   "id": "770b7f24",
   "metadata": {},
   "outputs": [
    {
     "name": "stdout",
     "output_type": "stream",
     "text": [
      "Cross-validation accuracy: 0.9119 ± 0.0122\n"
     ]
    }
   ],
   "source": [
    "from sklearn.model_selection import cross_val_score\n",
    "scores = cross_val_score(model, X_train, y_train_enc, cv=5, scoring='accuracy')\n",
    "print(f\"Cross-validation accuracy: {scores.mean():.4f} ± {scores.std():.4f}\")\n"
   ]
  },
  {
   "cell_type": "code",
   "execution_count": 35,
   "id": "9c6dfbd0",
   "metadata": {},
   "outputs": [
    {
     "data": {
      "text/plain": [
       "['xgboost_activity_model.pkl']"
      ]
     },
     "execution_count": 35,
     "metadata": {},
     "output_type": "execute_result"
    }
   ],
   "source": [
    "import joblib\n",
    "\n",
    "# Save the trained model\n",
    "joblib.dump(model, 'xgboost_activity_model.pkl')\n"
   ]
  },
  {
   "cell_type": "code",
   "execution_count": 36,
   "id": "c4aa430f",
   "metadata": {},
   "outputs": [],
   "source": [
    "# # Save using XGBoost's built-in method\n",
    "# model.save_model('xgboost_activity_model.json')\n",
    "\n",
    "# # To load:\n",
    "# # import xgboost as xgb\n",
    "# # model = xgb.XGBClassifier()\n",
    "# # model.load_model('xgboost_activity_model.json')\n"
   ]
  }
 ],
 "metadata": {
  "kernelspec": {
   "display_name": "py310env",
   "language": "python",
   "name": "python3"
  },
  "language_info": {
   "codemirror_mode": {
    "name": "ipython",
    "version": 3
   },
   "file_extension": ".py",
   "mimetype": "text/x-python",
   "name": "python",
   "nbconvert_exporter": "python",
   "pygments_lexer": "ipython3",
   "version": "3.10.18"
  }
 },
 "nbformat": 4,
 "nbformat_minor": 5
}
